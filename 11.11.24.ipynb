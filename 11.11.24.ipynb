{
 "cells": [
  {
   "cell_type": "code",
   "execution_count": 7,
   "id": "614b4dc4-99e8-4b25-ab30-ea7d2778c0fe",
   "metadata": {},
   "outputs": [],
   "source": [
    "import numpy as np\n",
    "import pandas as pd"
   ]
  },
  {
   "cell_type": "code",
   "execution_count": 49,
   "id": "f48faac5-8397-4c28-b526-9b49c9b4f8f6",
   "metadata": {},
   "outputs": [
    {
     "name": "stdout",
     "output_type": "stream",
     "text": [
      "0                          Planet Coaster 2\n",
      "1                Mario & Luigi: Brothership\n",
      "2                               Slitterhead\n",
      "3               The Rise of the Golden Idol\n",
      "4               Dragon Quest 3 HD-2D Remake\n",
      "5           Microsoft Flight Simulator 2024\n",
      "6             Stalker 2: Heart of Chornobyl\n",
      "7                   Fantasian Neo Dimension\n",
      "8                             Marvel Rivals\n",
      "9        Indiana Jones and the Great Circle\n",
      "10            Blood Line: A Rebel Moon Game\n",
      "11    The Legend of Zelda: Echoes of Wisdom\n",
      "dtype: object \n",
      "\n",
      "Game in Index 3 is:  The Rise of the Golden Idol \n",
      "\n",
      "The list of the games and prices:  \n",
      " Planet Coaster 2                         224.96\n",
      "Mario & Luigi: Brothership               187.46\n",
      "Slitterhead                              149.96\n",
      "The Rise of the Golden Idol              131.21\n",
      "Dragon Quest 3 HD-2D Remake              187.46\n",
      "Microsoft Flight Simulator 2024          262.46\n",
      "Stalker 2: Heart of Chornobyl            224.96\n",
      "Fantasian Neo Dimension                  168.71\n",
      "Marvel Rivals                            149.96\n",
      "Indiana Jones and the Great Circle       206.21\n",
      "Blood Line: A Rebel Moon Game              0.00\n",
      "The Legend of Zelda: Echoes of Wisdom    262.46\n",
      "dtype: float64 \n",
      "\n",
      "Price of 'Marvel Rivals:  149.96 \n",
      "\n",
      "All the keys in the series: \n",
      " Index(['Planet Coaster 2', 'Mario & Luigi: Brothership', 'Slitterhead',\n",
      "       'The Rise of the Golden Idol', 'Dragon Quest 3 HD-2D Remake',\n",
      "       'Microsoft Flight Simulator 2024', 'Stalker 2: Heart of Chornobyl',\n",
      "       'Fantasian Neo Dimension', 'Marvel Rivals',\n",
      "       'Indiana Jones and the Great Circle', 'Blood Line: A Rebel Moon Game',\n",
      "       'The Legend of Zelda: Echoes of Wisdom'],\n",
      "      dtype='object') \n",
      "\n",
      "Also, you can have it like this:\n",
      "\n",
      "dict_keys(['Planet Coaster 2', 'Mario & Luigi: Brothership', 'Slitterhead', 'The Rise of the Golden Idol', 'Dragon Quest 3 HD-2D Remake', 'Microsoft Flight Simulator 2024', 'Stalker 2: Heart of Chornobyl', 'Fantasian Neo Dimension', 'Marvel Rivals', 'Indiana Jones and the Great Circle', 'Blood Line: A Rebel Moon Game', 'The Legend of Zelda: Echoes of Wisdom']) \n",
      "\n",
      "Data type of the series is:  float64 \n",
      "\n"
     ]
    }
   ],
   "source": [
    "pc_games_series = pd.Series([ \"Planet Coaster 2\", \"Mario & Luigi: Brothership\", \"Slitterhead\",\n",
    "\"The Rise of the Golden Idol\", \"Dragon Quest 3 HD-2D Remake\", \"Microsoft Flight Simulator 2024\",\n",
    "\"Stalker 2: Heart of Chornobyl\", \"Fantasian Neo Dimension\", \"Marvel Rivals\", \"Indiana Jones and the Great Circle\",\n",
    "\"Blood Line: A Rebel Moon Game\",\"The Legend of Zelda: Echoes of Wisdom\" ])\n",
    "\n",
    "print(pc_games_series,\"\\n\")\n",
    "\n",
    "print(\"Game in Index 3 is: \",pc_games_series[3],\"\\n\")\n",
    "\n",
    "game_prices = [224.96, 187.46, 149.96, 131.21, 187.46, 262.46, 224.96,\n",
    "168.71, 149.96, 206.21, 0.0, 262.46]\n",
    "\n",
    "games_with_prices = pd.Series(game_prices,pc_games_series)\n",
    "print(\"The list of the games and prices: \",\"\\n\", games_with_prices,\"\\n\")\n",
    "\n",
    "print(\"Price of 'Marvel Rivals: \", games_with_prices['Marvel Rivals'],\"\\n\")\n",
    "\n",
    "print(\"All the keys in the series: \\n\",games_with_prices.keys(), \"\\n\")\n",
    "print(\"Also, you can have it like this:\\n\")\n",
    "games_dict  = dict(games_with_prices)\n",
    "print(games_dict.keys(),\"\\n\")\n",
    "\n",
    "print(\"Data type of the series is: \",(games_with_prices.dtype),\"\\n\")\n"
   ]
  },
  {
   "cell_type": "code",
   "execution_count": 51,
   "id": "4ac3817d-8c52-4bc0-b3e9-d4176d4f9f50",
   "metadata": {},
   "outputs": [
    {
     "name": "stdout",
     "output_type": "stream",
     "text": [
      "Planet Coaster 2                         224.96\n",
      "Mario & Luigi: Brothership               187.46\n",
      "Slitterhead                              149.96\n",
      "The Rise of the Golden Idol              131.21\n",
      "Dragon Quest 3 HD-2D Remake              187.46\n",
      "Microsoft Flight Simulator 2024          262.46\n",
      "Stalker 2: Heart of Chornobyl            224.96\n",
      "Fantasian Neo Dimension                  168.71\n",
      "Marvel Rivals                            149.96\n",
      "Indiana Jones and the Great Circle       206.21\n",
      "Blood Line: A Rebel Moon Game              0.00\n",
      "The Legend of Zelda: Echoes of Wisdom    262.46\n",
      "dtype: float64\n"
     ]
    }
   ],
   "source": [
    "print(games_with_prices)"
   ]
  },
  {
   "cell_type": "code",
   "execution_count": 107,
   "id": "4ccc72cf-8cae-42fc-a141-8a6cc8cad22f",
   "metadata": {},
   "outputs": [],
   "source": [
    "three_games = games_with_prices.sample(3).to_dict()"
   ]
  },
  {
   "cell_type": "code",
   "execution_count": 109,
   "id": "653b2a0d-9060-44ff-9c59-b43b4e1b8d59",
   "metadata": {},
   "outputs": [
    {
     "name": "stdout",
     "output_type": "stream",
     "text": [
      "{'Indiana Jones and the Great Circle': 206.21, 'Fantasian Neo Dimension': 168.71, 'Mario & Luigi: Brothership': 187.46}\n"
     ]
    }
   ],
   "source": [
    "print(three_games)"
   ]
  },
  {
   "cell_type": "code",
   "execution_count": 115,
   "id": "1e9f8ff4-9356-4c81-a8bd-8aae7dd665fb",
   "metadata": {},
   "outputs": [
    {
     "name": "stdout",
     "output_type": "stream",
     "text": [
      "Indiana Jones and the Great Circle    206.21\n",
      "Fantasian Neo Dimension               168.71\n",
      "Mario & Luigi: Brothership            187.46\n",
      "dtype: float64\n"
     ]
    }
   ],
   "source": [
    "three_games_series = pd.Series(three_games)\n",
    "print(three_games_series)"
   ]
  },
  {
   "cell_type": "code",
   "execution_count": 123,
   "id": "a719e10a-0afe-436a-9965-f803c07c3d48",
   "metadata": {},
   "outputs": [
    {
     "name": "stdout",
     "output_type": "stream",
     "text": [
      "                                index       0\n",
      "0  Indiana Jones and the Great Circle  206.21\n",
      "1             Fantasian Neo Dimension  168.71\n",
      "2          Mario & Luigi: Brothership  187.46\n"
     ]
    }
   ],
   "source": [
    "three_games_df = three_games_series.reset_index()\n",
    "print(three_games_df)"
   ]
  },
  {
   "cell_type": "markdown",
   "id": "937ce4af-9cb3-4bcd-b6d8-be41afe29176",
   "metadata": {},
   "source": [
    "# Difference between '+' and 'add':"
   ]
  },
  {
   "cell_type": "markdown",
   "id": "259b8ea1-3389-4ce9-aee9-9199b7f161d7",
   "metadata": {},
   "source": [
    "#### While both '+' and 'add' are used in pandas for addition, they are different in their functionality and abilities.\n",
    "#### If, for example, '+' is used, the indices have to match, or else the result will be NaN. 'add', on the other hand, has some features that can be used to go around this problem. The user may fill in the value for missing indices, thus avoiding the NaN result. "
   ]
  },
  {
   "cell_type": "code",
   "execution_count": 197,
   "id": "e46bd546-63e4-45dc-9dc8-b1ce246bb3ea",
   "metadata": {},
   "outputs": [],
   "source": [
    "games_and_prices = { \"Planet Coaster 2\": 224.96, \"Mario & Luigi: Brothership\": 187.46,\n",
    "\"Slitterhead\": 149.96, \"Marvel Rivals\": 149.96,\n",
    "\"The Legend of Zelda: Echoes of Wisdom\": 262.46 }\n",
    "\n",
    "discounts = {\"Planet Coaster 2\": -50,\n",
    "             \"Marvel Rivals\": -80,\n",
    "             \"The Legend of Zelda: Echoes of Wisdom\": -15}"
   ]
  },
  {
   "cell_type": "code",
   "execution_count": 199,
   "id": "b490c3aa-3194-4a32-ba91-7bc5325f1f0e",
   "metadata": {},
   "outputs": [],
   "source": [
    "games_series = pd.Series(games_and_prices)"
   ]
  },
  {
   "cell_type": "code",
   "execution_count": 201,
   "id": "0de30590-201e-4141-a6ef-1d61cf97d195",
   "metadata": {},
   "outputs": [],
   "source": [
    "discounts_series = pd.Series(discounts)"
   ]
  },
  {
   "cell_type": "code",
   "execution_count": 207,
   "id": "b326e584-410d-4cdd-a81b-e8c06f444c97",
   "metadata": {},
   "outputs": [],
   "source": [
    "games_after_discounts = games_series.add(discounts_series, fill_value=0)"
   ]
  },
  {
   "cell_type": "code",
   "execution_count": 209,
   "id": "0da7b890-fe9d-41e5-b26f-644654df9f13",
   "metadata": {},
   "outputs": [
    {
     "name": "stdout",
     "output_type": "stream",
     "text": [
      "Planet Coaster 2                         224.96\n",
      "Mario & Luigi: Brothership               187.46\n",
      "Slitterhead                              149.96\n",
      "Marvel Rivals                            149.96\n",
      "The Legend of Zelda: Echoes of Wisdom    262.46\n",
      "dtype: float64\n",
      "Planet Coaster 2                        -50\n",
      "Marvel Rivals                           -80\n",
      "The Legend of Zelda: Echoes of Wisdom   -15\n",
      "dtype: int64\n",
      "Mario & Luigi: Brothership               187.46\n",
      "Marvel Rivals                             69.96\n",
      "Planet Coaster 2                         174.96\n",
      "Slitterhead                              149.96\n",
      "The Legend of Zelda: Echoes of Wisdom    247.46\n",
      "dtype: float64\n"
     ]
    }
   ],
   "source": [
    "print(\"Oiginal prices: \"games_series,\"/n\")\n",
    "print(\"Discounts: \"discounts_series,\"/n\")\n",
    "print(\"Prices After Discount: \"games_after_discounts)"
   ]
  }
 ],
 "metadata": {
  "kernelspec": {
   "display_name": "Python 3 (ipykernel)",
   "language": "python",
   "name": "python3"
  },
  "language_info": {
   "codemirror_mode": {
    "name": "ipython",
    "version": 3
   },
   "file_extension": ".py",
   "mimetype": "text/x-python",
   "name": "python",
   "nbconvert_exporter": "python",
   "pygments_lexer": "ipython3",
   "version": "3.12.7"
  }
 },
 "nbformat": 4,
 "nbformat_minor": 5
}
